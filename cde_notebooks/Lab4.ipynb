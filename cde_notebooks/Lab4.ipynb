{
 "cells": [
  {
   "cell_type": "markdown",
   "metadata": {},
   "source": [
    "Table 4.1"
   ]
  },
  {
   "cell_type": "code",
   "execution_count": 33,
   "metadata": {},
   "outputs": [
    {
     "data": {
      "text/html": [
       "<div><div style = \"float: left;\"><span>14×8 DataFrame</span></div><div style = \"clear: both;\"></div></div><div class = \"data-frame\" style = \"overflow-x: scroll;\"><table class = \"data-frame\" style = \"margin-bottom: 6px;\"><thead><tr class = \"header\"><th class = \"rowNumber\" style = \"font-weight: bold; text-align: right;\">Row</th><th style = \"text-align: left;\">amperages</th><th style = \"text-align: left;\">unfiltered</th><th style = \"text-align: left;\">c1_filtered</th><th style = \"text-align: left;\">c2_filtered</th><th style = \"text-align: left;\">c1_c2_filtered</th><th style = \"text-align: left;\">r1_c1_filtered</th><th style = \"text-align: left;\">r1_c2_filtered</th><th style = \"text-align: left;\">c1_r1_c2_filtered</th></tr><tr class = \"subheader headerLastRow\"><th class = \"rowNumber\" style = \"font-weight: bold; text-align: right;\"></th><th title = \"Int64\" style = \"text-align: left;\">Int64</th><th title = \"Float64\" style = \"text-align: left;\">Float64</th><th title = \"Float64\" style = \"text-align: left;\">Float64</th><th title = \"Float64\" style = \"text-align: left;\">Float64</th><th title = \"Float64\" style = \"text-align: left;\">Float64</th><th title = \"Float64\" style = \"text-align: left;\">Float64</th><th title = \"Float64\" style = \"text-align: left;\">Float64</th><th title = \"Float64\" style = \"text-align: left;\">Float64</th></tr></thead><tbody><tr><td class = \"rowNumber\" style = \"font-weight: bold; text-align: right;\">1</td><td style = \"text-align: right;\">5</td><td style = \"text-align: right;\">2.52</td><td style = \"text-align: right;\">8.0</td><td style = \"text-align: right;\">8.0</td><td style = \"text-align: right;\">7.8</td><td style = \"text-align: right;\">7.0</td><td style = \"text-align: right;\">7.0</td><td style = \"text-align: right;\">2.5</td></tr><tr><td class = \"rowNumber\" style = \"font-weight: bold; text-align: right;\">2</td><td style = \"text-align: right;\">10</td><td style = \"text-align: right;\">2.43</td><td style = \"text-align: right;\">7.0</td><td style = \"text-align: right;\">7.0</td><td style = \"text-align: right;\">7.15</td><td style = \"text-align: right;\">6.91</td><td style = \"text-align: right;\">6.54</td><td style = \"text-align: right;\">2.32</td></tr><tr><td class = \"rowNumber\" style = \"font-weight: bold; text-align: right;\">3</td><td style = \"text-align: right;\">15</td><td style = \"text-align: right;\">2.36</td><td style = \"text-align: right;\">6.61</td><td style = \"text-align: right;\">6.68</td><td style = \"text-align: right;\">6.81</td><td style = \"text-align: right;\">6.52</td><td style = \"text-align: right;\">6.0</td><td style = \"text-align: right;\">2.23</td></tr><tr><td class = \"rowNumber\" style = \"font-weight: bold; text-align: right;\">4</td><td style = \"text-align: right;\">20</td><td style = \"text-align: right;\">2.3</td><td style = \"text-align: right;\">6.41</td><td style = \"text-align: right;\">6.34</td><td style = \"text-align: right;\">6.44</td><td style = \"text-align: right;\">6.0</td><td style = \"text-align: right;\">5.55</td><td style = \"text-align: right;\">2.11</td></tr><tr><td class = \"rowNumber\" style = \"font-weight: bold; text-align: right;\">5</td><td style = \"text-align: right;\">30</td><td style = \"text-align: right;\">2.17</td><td style = \"text-align: right;\">5.7</td><td style = \"text-align: right;\">5.71</td><td style = \"text-align: right;\">5.87</td><td style = \"text-align: right;\">5.4</td><td style = \"text-align: right;\">4.68</td><td style = \"text-align: right;\">1.87</td></tr><tr><td class = \"rowNumber\" style = \"font-weight: bold; text-align: right;\">6</td><td style = \"text-align: right;\">40</td><td style = \"text-align: right;\">2.02</td><td style = \"text-align: right;\">5.11</td><td style = \"text-align: right;\">5.15</td><td style = \"text-align: right;\">5.4</td><td style = \"text-align: right;\">4.71</td><td style = \"text-align: right;\">3.95</td><td style = \"text-align: right;\">1.37</td></tr><tr><td class = \"rowNumber\" style = \"font-weight: bold; text-align: right;\">7</td><td style = \"text-align: right;\">50</td><td style = \"text-align: right;\">1.91</td><td style = \"text-align: right;\">4.45</td><td style = \"text-align: right;\">4.62</td><td style = \"text-align: right;\">4.97</td><td style = \"text-align: right;\">4.1</td><td style = \"text-align: right;\">3.27</td><td style = \"text-align: right;\">1.38</td></tr><tr><td class = \"rowNumber\" style = \"font-weight: bold; text-align: right;\">8</td><td style = \"text-align: right;\">60</td><td style = \"text-align: right;\">1.8</td><td style = \"text-align: right;\">4.0</td><td style = \"text-align: right;\">4.17</td><td style = \"text-align: right;\">4.45</td><td style = \"text-align: right;\">3.59</td><td style = \"text-align: right;\">2.67</td><td style = \"text-align: right;\">1.18</td></tr><tr><td class = \"rowNumber\" style = \"font-weight: bold; text-align: right;\">9</td><td style = \"text-align: right;\">70</td><td style = \"text-align: right;\">1.67</td><td style = \"text-align: right;\">3.52</td><td style = \"text-align: right;\">3.65</td><td style = \"text-align: right;\">4.07</td><td style = \"text-align: right;\">3.03</td><td style = \"text-align: right;\">2.01</td><td style = \"text-align: right;\">0.94</td></tr><tr><td class = \"rowNumber\" style = \"font-weight: bold; text-align: right;\">10</td><td style = \"text-align: right;\">80</td><td style = \"text-align: right;\">1.5</td><td style = \"text-align: right;\">3.08</td><td style = \"text-align: right;\">3.27</td><td style = \"text-align: right;\">3.74</td><td style = \"text-align: right;\">2.41</td><td style = \"text-align: right;\">1.27</td><td style = \"text-align: right;\">0.67</td></tr><tr><td class = \"rowNumber\" style = \"font-weight: bold; text-align: right;\">11</td><td style = \"text-align: right;\">90</td><td style = \"text-align: right;\">1.37</td><td style = \"text-align: right;\">2.77</td><td style = \"text-align: right;\">2.87</td><td style = \"text-align: right;\">3.47</td><td style = \"text-align: right;\">2.04</td><td style = \"text-align: right;\">0.77</td><td style = \"text-align: right;\">0.67</td></tr><tr><td class = \"rowNumber\" style = \"font-weight: bold; text-align: right;\">12</td><td style = \"text-align: right;\">100</td><td style = \"text-align: right;\">1.24</td><td style = \"text-align: right;\">2.33</td><td style = \"text-align: right;\">2.23</td><td style = \"text-align: right;\">2.89</td><td style = \"text-align: right;\">1.49</td><td style = \"text-align: right;\">0.77</td><td style = \"text-align: right;\">0.67</td></tr><tr><td class = \"rowNumber\" style = \"font-weight: bold; text-align: right;\">13</td><td style = \"text-align: right;\">130</td><td style = \"text-align: right;\">0.91</td><td style = \"text-align: right;\">1.44</td><td style = \"text-align: right;\">1.27</td><td style = \"text-align: right;\">2.03</td><td style = \"text-align: right;\">0.85</td><td style = \"text-align: right;\">0.77</td><td style = \"text-align: right;\">0.67</td></tr><tr><td class = \"rowNumber\" style = \"font-weight: bold; text-align: right;\">14</td><td style = \"text-align: right;\">150</td><td style = \"text-align: right;\">0.7</td><td style = \"text-align: right;\">1.09</td><td style = \"text-align: right;\">1.1</td><td style = \"text-align: right;\">1.2</td><td style = \"text-align: right;\">0.85</td><td style = \"text-align: right;\">0.77</td><td style = \"text-align: right;\">0.67</td></tr></tbody></table></div>"
      ],
      "text/latex": [
       "\\begin{tabular}{r|ccccccc}\n",
       "\t& amperages & unfiltered & c1\\_filtered & c2\\_filtered & c1\\_c2\\_filtered & r1\\_c1\\_filtered & \\\\\n",
       "\t\\hline\n",
       "\t& Int64 & Float64 & Float64 & Float64 & Float64 & Float64 & \\\\\n",
       "\t\\hline\n",
       "\t1 & 5 & 2.52 & 8.0 & 8.0 & 7.8 & 7.0 & $\\dots$ \\\\\n",
       "\t2 & 10 & 2.43 & 7.0 & 7.0 & 7.15 & 6.91 & $\\dots$ \\\\\n",
       "\t3 & 15 & 2.36 & 6.61 & 6.68 & 6.81 & 6.52 & $\\dots$ \\\\\n",
       "\t4 & 20 & 2.3 & 6.41 & 6.34 & 6.44 & 6.0 & $\\dots$ \\\\\n",
       "\t5 & 30 & 2.17 & 5.7 & 5.71 & 5.87 & 5.4 & $\\dots$ \\\\\n",
       "\t6 & 40 & 2.02 & 5.11 & 5.15 & 5.4 & 4.71 & $\\dots$ \\\\\n",
       "\t7 & 50 & 1.91 & 4.45 & 4.62 & 4.97 & 4.1 & $\\dots$ \\\\\n",
       "\t8 & 60 & 1.8 & 4.0 & 4.17 & 4.45 & 3.59 & $\\dots$ \\\\\n",
       "\t9 & 70 & 1.67 & 3.52 & 3.65 & 4.07 & 3.03 & $\\dots$ \\\\\n",
       "\t10 & 80 & 1.5 & 3.08 & 3.27 & 3.74 & 2.41 & $\\dots$ \\\\\n",
       "\t11 & 90 & 1.37 & 2.77 & 2.87 & 3.47 & 2.04 & $\\dots$ \\\\\n",
       "\t12 & 100 & 1.24 & 2.33 & 2.23 & 2.89 & 1.49 & $\\dots$ \\\\\n",
       "\t13 & 130 & 0.91 & 1.44 & 1.27 & 2.03 & 0.85 & $\\dots$ \\\\\n",
       "\t14 & 150 & 0.7 & 1.09 & 1.1 & 1.2 & 0.85 & $\\dots$ \\\\\n",
       "\\end{tabular}\n"
      ],
      "text/plain": [
       "\u001b[1m14×8 DataFrame\u001b[0m\n",
       "\u001b[1m Row \u001b[0m│\u001b[1m amperages \u001b[0m\u001b[1m unfiltered \u001b[0m\u001b[1m c1_filtered \u001b[0m\u001b[1m c2_filtered \u001b[0m\u001b[1m c1_c2_filtered \u001b[0m\u001b[1m r1_c1_\u001b[0m ⋯\n",
       "     │\u001b[90m Int64     \u001b[0m\u001b[90m Float64    \u001b[0m\u001b[90m Float64     \u001b[0m\u001b[90m Float64     \u001b[0m\u001b[90m Float64        \u001b[0m\u001b[90m Float6\u001b[0m ⋯\n",
       "─────┼──────────────────────────────────────────────────────────────────────────\n",
       "   1 │         5        2.52         8.0          8.0             7.8          ⋯\n",
       "   2 │        10        2.43         7.0          7.0             7.15\n",
       "   3 │        15        2.36         6.61         6.68            6.81\n",
       "   4 │        20        2.3          6.41         6.34            6.44\n",
       "   5 │        30        2.17         5.7          5.71            5.87         ⋯\n",
       "   6 │        40        2.02         5.11         5.15            5.4\n",
       "   7 │        50        1.91         4.45         4.62            4.97\n",
       "   8 │        60        1.8          4.0          4.17            4.45\n",
       "   9 │        70        1.67         3.52         3.65            4.07         ⋯\n",
       "  10 │        80        1.5          3.08         3.27            3.74\n",
       "  11 │        90        1.37         2.77         2.87            3.47\n",
       "  12 │       100        1.24         2.33         2.23            2.89\n",
       "  13 │       130        0.91         1.44         1.27            2.03         ⋯\n",
       "  14 │       150        0.7          1.09         1.1             1.2\n",
       "\u001b[36m                                                               3 columns omitted\u001b[0m"
      ]
     },
     "execution_count": 33,
     "metadata": {},
     "output_type": "execute_result"
    }
   ],
   "source": [
    "using DataFrames\n",
    "\n",
    "table4_1 = DataFrame(\n",
    "    amperages=[5, 10, 15, 20, 30, 40, 50, 60, 70, 80, 90, 100, 130, 150], # mA\n",
    "    unfiltered=[2.52, 2.43, 2.36, 2.3, 2.17, 2.02, 1.91, 1.8, 1.67, 1.5, 1.37, 1.24, 0.91, 0.7],\n",
    "    c1_filtered=[8, 7, 6.61, 6.41, 5.70, 5.11, 4.45, 4, 3.52, 3.08, 2.77, 2.33, 1.44, 1.09],\n",
    "    c2_filtered=[8, 7, 6.68, 6.34, 5.71, 5.15, 4.62, 4.17, 3.65, 3.27, 2.87, 2.23, 1.27, 1.1],\n",
    "    c1_c2_filtered=[7.8, 7.15, 6.81, 6.44, 5.87, 5.4, 4.97, 4.45, 4.07, 3.74, 3.47, 2.89, 2.03, 1.2],\n",
    "    r1_c1_filtered=[7, 6.91, 6.52, 6, 5.4, 4.71, 4.1, 3.59, 3.03, 2.41, 2.04, 1.49, 0.85, 0.85],\n",
    "    r1_c2_filtered=[7, 6.54, 6, 5.55, 4.68, 3.95, 3.27, 2.67, 2.01, 1.27, 0.77, 0.77, 0.77, 0.77],\n",
    "    c1_r1_c2_filtered=[2.5, 2.32, 2.23, 2.11, 1.87, 1.37, 1.38, 1.18, 0.94, 0.67, 0.67, 0.67, 0.67, 0.67],\n",
    ")"
   ]
  },
  {
   "cell_type": "markdown",
   "metadata": {},
   "source": [
    "Table 4.2"
   ]
  },
  {
   "cell_type": "code",
   "execution_count": 41,
   "metadata": {},
   "outputs": [
    {
     "data": {
      "text/html": [
       "<div><div style = \"float: left;\"><span>14×8 DataFrame</span></div><div style = \"clear: both;\"></div></div><div class = \"data-frame\" style = \"overflow-x: scroll;\"><table class = \"data-frame\" style = \"margin-bottom: 6px;\"><thead><tr class = \"header\"><th class = \"rowNumber\" style = \"font-weight: bold; text-align: right;\">Row</th><th style = \"text-align: left;\">amperages</th><th style = \"text-align: left;\">unfiltered</th><th style = \"text-align: left;\">c1_filtered</th><th style = \"text-align: left;\">c2_filtered</th><th style = \"text-align: left;\">c1_c2_filtered</th><th style = \"text-align: left;\">r1_c1_filtered</th><th style = \"text-align: left;\">r1_c2_filtered</th><th style = \"text-align: left;\">c1_r1_c2_filtered</th></tr><tr class = \"subheader headerLastRow\"><th class = \"rowNumber\" style = \"font-weight: bold; text-align: right;\"></th><th title = \"Int64\" style = \"text-align: left;\">Int64</th><th title = \"Float64\" style = \"text-align: left;\">Float64</th><th title = \"Float64\" style = \"text-align: left;\">Float64</th><th title = \"Float64\" style = \"text-align: left;\">Float64</th><th title = \"Float64\" style = \"text-align: left;\">Float64</th><th title = \"Float64\" style = \"text-align: left;\">Float64</th><th title = \"Float64\" style = \"text-align: left;\">Float64</th><th title = \"Float64\" style = \"text-align: left;\">Float64</th></tr></thead><tbody><tr><td class = \"rowNumber\" style = \"font-weight: bold; text-align: right;\">1</td><td style = \"text-align: right;\">5</td><td style = \"text-align: right;\">5.15</td><td style = \"text-align: right;\">8.0</td><td style = \"text-align: right;\">8.0</td><td style = \"text-align: right;\">8.0</td><td style = \"text-align: right;\">8.0</td><td style = \"text-align: right;\">8.0</td><td style = \"text-align: right;\">8.0</td></tr><tr><td class = \"rowNumber\" style = \"font-weight: bold; text-align: right;\">2</td><td style = \"text-align: right;\">10</td><td style = \"text-align: right;\">5.0</td><td style = \"text-align: right;\">7.44</td><td style = \"text-align: right;\">7.41</td><td style = \"text-align: right;\">7.45</td><td style = \"text-align: right;\">7.3</td><td style = \"text-align: right;\">7.13</td><td style = \"text-align: right;\">7.31</td></tr><tr><td class = \"rowNumber\" style = \"font-weight: bold; text-align: right;\">3</td><td style = \"text-align: right;\">15</td><td style = \"text-align: right;\">4.97</td><td style = \"text-align: right;\">7.23</td><td style = \"text-align: right;\">7.21</td><td style = \"text-align: right;\">7.24</td><td style = \"text-align: right;\">7.07</td><td style = \"text-align: right;\">6.67</td><td style = \"text-align: right;\">7.09</td></tr><tr><td class = \"rowNumber\" style = \"font-weight: bold; text-align: right;\">4</td><td style = \"text-align: right;\">20</td><td style = \"text-align: right;\">4.9</td><td style = \"text-align: right;\">6.99</td><td style = \"text-align: right;\">7.05</td><td style = \"text-align: right;\">7.0</td><td style = \"text-align: right;\">6.69</td><td style = \"text-align: right;\">6.47</td><td style = \"text-align: right;\">6.74</td></tr><tr><td class = \"rowNumber\" style = \"font-weight: bold; text-align: right;\">5</td><td style = \"text-align: right;\">30</td><td style = \"text-align: right;\">4.72</td><td style = \"text-align: right;\">6.62</td><td style = \"text-align: right;\">6.69</td><td style = \"text-align: right;\">6.69</td><td style = \"text-align: right;\">6.27</td><td style = \"text-align: right;\">5.94</td><td style = \"text-align: right;\">6.29</td></tr><tr><td class = \"rowNumber\" style = \"font-weight: bold; text-align: right;\">6</td><td style = \"text-align: right;\">40</td><td style = \"text-align: right;\">4.61</td><td style = \"text-align: right;\">6.29</td><td style = \"text-align: right;\">6.41</td><td style = \"text-align: right;\">6.39</td><td style = \"text-align: right;\">5.9</td><td style = \"text-align: right;\">5.5</td><td style = \"text-align: right;\">5.87</td></tr><tr><td class = \"rowNumber\" style = \"font-weight: bold; text-align: right;\">7</td><td style = \"text-align: right;\">50</td><td style = \"text-align: right;\">4.42</td><td style = \"text-align: right;\">5.98</td><td style = \"text-align: right;\">6.1</td><td style = \"text-align: right;\">6.09</td><td style = \"text-align: right;\">5.44</td><td style = \"text-align: right;\">5.09</td><td style = \"text-align: right;\">5.45</td></tr><tr><td class = \"rowNumber\" style = \"font-weight: bold; text-align: right;\">8</td><td style = \"text-align: right;\">60</td><td style = \"text-align: right;\">4.31</td><td style = \"text-align: right;\">5.65</td><td style = \"text-align: right;\">5.8</td><td style = \"text-align: right;\">5.82</td><td style = \"text-align: right;\">5.08</td><td style = \"text-align: right;\">4.6</td><td style = \"text-align: right;\">5.09</td></tr><tr><td class = \"rowNumber\" style = \"font-weight: bold; text-align: right;\">9</td><td style = \"text-align: right;\">70</td><td style = \"text-align: right;\">4.19</td><td style = \"text-align: right;\">5.39</td><td style = \"text-align: right;\">5.58</td><td style = \"text-align: right;\">5.58</td><td style = \"text-align: right;\">4.7</td><td style = \"text-align: right;\">4.37</td><td style = \"text-align: right;\">4.77</td></tr><tr><td class = \"rowNumber\" style = \"font-weight: bold; text-align: right;\">10</td><td style = \"text-align: right;\">80</td><td style = \"text-align: right;\">4.05</td><td style = \"text-align: right;\">5.13</td><td style = \"text-align: right;\">5.34</td><td style = \"text-align: right;\">5.34</td><td style = \"text-align: right;\">4.23</td><td style = \"text-align: right;\">3.83</td><td style = \"text-align: right;\">4.39</td></tr><tr><td class = \"rowNumber\" style = \"font-weight: bold; text-align: right;\">11</td><td style = \"text-align: right;\">90</td><td style = \"text-align: right;\">3.91</td><td style = \"text-align: right;\">4.93</td><td style = \"text-align: right;\">5.04</td><td style = \"text-align: right;\">5.07</td><td style = \"text-align: right;\">4.01</td><td style = \"text-align: right;\">3.49</td><td style = \"text-align: right;\">4.1</td></tr><tr><td class = \"rowNumber\" style = \"font-weight: bold; text-align: right;\">12</td><td style = \"text-align: right;\">100</td><td style = \"text-align: right;\">3.71</td><td style = \"text-align: right;\">4.67</td><td style = \"text-align: right;\">4.82</td><td style = \"text-align: right;\">4.89</td><td style = \"text-align: right;\">3.7</td><td style = \"text-align: right;\">3.4</td><td style = \"text-align: right;\">3.84</td></tr><tr><td class = \"rowNumber\" style = \"font-weight: bold; text-align: right;\">13</td><td style = \"text-align: right;\">130</td><td style = \"text-align: right;\">3.42</td><td style = \"text-align: right;\">4.17</td><td style = \"text-align: right;\">4.32</td><td style = \"text-align: right;\">4.38</td><td style = \"text-align: right;\">2.71</td><td style = \"text-align: right;\">2.41</td><td style = \"text-align: right;\">2.7</td></tr><tr><td class = \"rowNumber\" style = \"font-weight: bold; text-align: right;\">14</td><td style = \"text-align: right;\">150</td><td style = \"text-align: right;\">3.15</td><td style = \"text-align: right;\">3.91</td><td style = \"text-align: right;\">3.98</td><td style = \"text-align: right;\">3.82</td><td style = \"text-align: right;\">2.3</td><td style = \"text-align: right;\">1.9</td><td style = \"text-align: right;\">2.21</td></tr></tbody></table></div>"
      ],
      "text/latex": [
       "\\begin{tabular}{r|ccccccc}\n",
       "\t& amperages & unfiltered & c1\\_filtered & c2\\_filtered & c1\\_c2\\_filtered & r1\\_c1\\_filtered & \\\\\n",
       "\t\\hline\n",
       "\t& Int64 & Float64 & Float64 & Float64 & Float64 & Float64 & \\\\\n",
       "\t\\hline\n",
       "\t1 & 5 & 5.15 & 8.0 & 8.0 & 8.0 & 8.0 & $\\dots$ \\\\\n",
       "\t2 & 10 & 5.0 & 7.44 & 7.41 & 7.45 & 7.3 & $\\dots$ \\\\\n",
       "\t3 & 15 & 4.97 & 7.23 & 7.21 & 7.24 & 7.07 & $\\dots$ \\\\\n",
       "\t4 & 20 & 4.9 & 6.99 & 7.05 & 7.0 & 6.69 & $\\dots$ \\\\\n",
       "\t5 & 30 & 4.72 & 6.62 & 6.69 & 6.69 & 6.27 & $\\dots$ \\\\\n",
       "\t6 & 40 & 4.61 & 6.29 & 6.41 & 6.39 & 5.9 & $\\dots$ \\\\\n",
       "\t7 & 50 & 4.42 & 5.98 & 6.1 & 6.09 & 5.44 & $\\dots$ \\\\\n",
       "\t8 & 60 & 4.31 & 5.65 & 5.8 & 5.82 & 5.08 & $\\dots$ \\\\\n",
       "\t9 & 70 & 4.19 & 5.39 & 5.58 & 5.58 & 4.7 & $\\dots$ \\\\\n",
       "\t10 & 80 & 4.05 & 5.13 & 5.34 & 5.34 & 4.23 & $\\dots$ \\\\\n",
       "\t11 & 90 & 3.91 & 4.93 & 5.04 & 5.07 & 4.01 & $\\dots$ \\\\\n",
       "\t12 & 100 & 3.71 & 4.67 & 4.82 & 4.89 & 3.7 & $\\dots$ \\\\\n",
       "\t13 & 130 & 3.42 & 4.17 & 4.32 & 4.38 & 2.71 & $\\dots$ \\\\\n",
       "\t14 & 150 & 3.15 & 3.91 & 3.98 & 3.82 & 2.3 & $\\dots$ \\\\\n",
       "\\end{tabular}\n"
      ],
      "text/plain": [
       "\u001b[1m14×8 DataFrame\u001b[0m\n",
       "\u001b[1m Row \u001b[0m│\u001b[1m amperages \u001b[0m\u001b[1m unfiltered \u001b[0m\u001b[1m c1_filtered \u001b[0m\u001b[1m c2_filtered \u001b[0m\u001b[1m c1_c2_filtered \u001b[0m\u001b[1m r1_c1_\u001b[0m ⋯\n",
       "     │\u001b[90m Int64     \u001b[0m\u001b[90m Float64    \u001b[0m\u001b[90m Float64     \u001b[0m\u001b[90m Float64     \u001b[0m\u001b[90m Float64        \u001b[0m\u001b[90m Float6\u001b[0m ⋯\n",
       "─────┼──────────────────────────────────────────────────────────────────────────\n",
       "   1 │         5        5.15         8.0          8.0             8.0          ⋯\n",
       "   2 │        10        5.0          7.44         7.41            7.45\n",
       "   3 │        15        4.97         7.23         7.21            7.24\n",
       "   4 │        20        4.9          6.99         7.05            7.0\n",
       "   5 │        30        4.72         6.62         6.69            6.69         ⋯\n",
       "   6 │        40        4.61         6.29         6.41            6.39\n",
       "   7 │        50        4.42         5.98         6.1             6.09\n",
       "   8 │        60        4.31         5.65         5.8             5.82\n",
       "   9 │        70        4.19         5.39         5.58            5.58         ⋯\n",
       "  10 │        80        4.05         5.13         5.34            5.34\n",
       "  11 │        90        3.91         4.93         5.04            5.07\n",
       "  12 │       100        3.71         4.67         4.82            4.89\n",
       "  13 │       130        3.42         4.17         4.32            4.38         ⋯\n",
       "  14 │       150        3.15         3.91         3.98            3.82\n",
       "\u001b[36m                                                               3 columns omitted\u001b[0m"
      ]
     },
     "execution_count": 41,
     "metadata": {},
     "output_type": "execute_result"
    }
   ],
   "source": [
    "table4_2 = DataFrame(\n",
    "    amperages=[5, 10, 15, 20, 30, 40, 50, 60, 70, 80, 90, 100, 130, 150], # mA\n",
    "    unfiltered=[5.15, 5, 4.97, 4.9, 4.72, 4.61, 4.42, 4.31, 4.19, 4.05, 3.91, 3.71, 3.42, 3.15],\n",
    "    c1_filtered=[8, 7.44, 7.23, 6.99, 6.62, 6.29, 5.98, 5.65, 5.39, 5.13, 4.93, 4.67, 4.17, 3.91],\n",
    "    c2_filtered=[8, 7.41, 7.21, 7.05, 6.69, 6.41, 6.1, 5.8, 5.58, 5.34, 5.04, 4.82, 4.32, 3.98],\n",
    "    c1_c2_filtered=[8, 7.45, 7.24, 7, 6.69, 6.39, 6.09, 5.82, 5.58, 5.34, 5.07, 4.89, 4.38, 3.82],\n",
    "    r1_c1_filtered=[8, 7.30, 7.07, 6.69, 6.27, 5.90, 5.44, 5.08, 4.70, 4.23, 4.01, 3.7, 2.71, 2.3],\n",
    "    r1_c2_filtered=[8, 7.13, 6.67, 6.47, 5.94, 5.5, 5.09, 4.6, 4.37, 3.83, 3.49, 3.4, 2.41, 1.9],\n",
    "    c1_r1_c2_filtered=[8, 7.31, 7.09, 6.74, 6.29, 5.87, 5.45, 5.09, 4.77, 4.39, 4.1, 3.84, 2.7, 2.21],\n",
    ")"
   ]
  },
  {
   "cell_type": "markdown",
   "metadata": {},
   "source": [
    "Table 4.3"
   ]
  },
  {
   "cell_type": "code",
   "execution_count": 47,
   "metadata": {},
   "outputs": [
    {
     "data": {
      "text/html": [
       "<div><div style = \"float: left;\"><span>14×8 DataFrame</span></div><div style = \"clear: both;\"></div></div><div class = \"data-frame\" style = \"overflow-x: scroll;\"><table class = \"data-frame\" style = \"margin-bottom: 6px;\"><thead><tr class = \"header\"><th class = \"rowNumber\" style = \"font-weight: bold; text-align: right;\">Row</th><th style = \"text-align: left;\">amperages</th><th style = \"text-align: left;\">unfiltered</th><th style = \"text-align: left;\">c1_filtered</th><th style = \"text-align: left;\">c2_filtered</th><th style = \"text-align: left;\">c1_c2_filtered</th><th style = \"text-align: left;\">r1_c1_filtered</th><th style = \"text-align: left;\">r1_c2_filtered</th><th style = \"text-align: left;\">c1_r1_c2_filtered</th></tr><tr class = \"subheader headerLastRow\"><th class = \"rowNumber\" style = \"font-weight: bold; text-align: right;\"></th><th title = \"Int64\" style = \"text-align: left;\">Int64</th><th title = \"Float64\" style = \"text-align: left;\">Float64</th><th title = \"Float64\" style = \"text-align: left;\">Float64</th><th title = \"Float64\" style = \"text-align: left;\">Float64</th><th title = \"Float64\" style = \"text-align: left;\">Float64</th><th title = \"Float64\" style = \"text-align: left;\">Float64</th><th title = \"Float64\" style = \"text-align: left;\">Float64</th><th title = \"Float64\" style = \"text-align: left;\">Float64</th></tr></thead><tbody><tr><td class = \"rowNumber\" style = \"font-weight: bold; text-align: right;\">1</td><td style = \"text-align: right;\">5</td><td style = \"text-align: right;\">4.43</td><td style = \"text-align: right;\">7.0</td><td style = \"text-align: right;\">7.0</td><td style = \"text-align: right;\">7.0</td><td style = \"text-align: right;\">7.0</td><td style = \"text-align: right;\">7.0</td><td style = \"text-align: right;\">7.0</td></tr><tr><td class = \"rowNumber\" style = \"font-weight: bold; text-align: right;\">2</td><td style = \"text-align: right;\">10</td><td style = \"text-align: right;\">4.41</td><td style = \"text-align: right;\">6.9</td><td style = \"text-align: right;\">6.78</td><td style = \"text-align: right;\">6.72</td><td style = \"text-align: right;\">6.6</td><td style = \"text-align: right;\">6.65</td><td style = \"text-align: right;\">6.6</td></tr><tr><td class = \"rowNumber\" style = \"font-weight: bold; text-align: right;\">3</td><td style = \"text-align: right;\">15</td><td style = \"text-align: right;\">4.41</td><td style = \"text-align: right;\">6.7</td><td style = \"text-align: right;\">6.6</td><td style = \"text-align: right;\">6.78</td><td style = \"text-align: right;\">6.35</td><td style = \"text-align: right;\">6.3</td><td style = \"text-align: right;\">6.38</td></tr><tr><td class = \"rowNumber\" style = \"font-weight: bold; text-align: right;\">4</td><td style = \"text-align: right;\">20</td><td style = \"text-align: right;\">4.38</td><td style = \"text-align: right;\">6.53</td><td style = \"text-align: right;\">6.43</td><td style = \"text-align: right;\">6.42</td><td style = \"text-align: right;\">6.04</td><td style = \"text-align: right;\">6.0</td><td style = \"text-align: right;\">6.22</td></tr><tr><td class = \"rowNumber\" style = \"font-weight: bold; text-align: right;\">5</td><td style = \"text-align: right;\">30</td><td style = \"text-align: right;\">4.31</td><td style = \"text-align: right;\">6.32</td><td style = \"text-align: right;\">6.2</td><td style = \"text-align: right;\">6.15</td><td style = \"text-align: right;\">5.75</td><td style = \"text-align: right;\">5.49</td><td style = \"text-align: right;\">5.88</td></tr><tr><td class = \"rowNumber\" style = \"font-weight: bold; text-align: right;\">6</td><td style = \"text-align: right;\">40</td><td style = \"text-align: right;\">4.26</td><td style = \"text-align: right;\">6.1</td><td style = \"text-align: right;\">5.96</td><td style = \"text-align: right;\">6.01</td><td style = \"text-align: right;\">5.42</td><td style = \"text-align: right;\">5.14</td><td style = \"text-align: right;\">5.55</td></tr><tr><td class = \"rowNumber\" style = \"font-weight: bold; text-align: right;\">7</td><td style = \"text-align: right;\">50</td><td style = \"text-align: right;\">4.21</td><td style = \"text-align: right;\">5.94</td><td style = \"text-align: right;\">5.72</td><td style = \"text-align: right;\">5.84</td><td style = \"text-align: right;\">5.17</td><td style = \"text-align: right;\">5.0</td><td style = \"text-align: right;\">5.28</td></tr><tr><td class = \"rowNumber\" style = \"font-weight: bold; text-align: right;\">8</td><td style = \"text-align: right;\">60</td><td style = \"text-align: right;\">4.14</td><td style = \"text-align: right;\">5.69</td><td style = \"text-align: right;\">5.47</td><td style = \"text-align: right;\">5.69</td><td style = \"text-align: right;\">4.8</td><td style = \"text-align: right;\">4.43</td><td style = \"text-align: right;\">5.02</td></tr><tr><td class = \"rowNumber\" style = \"font-weight: bold; text-align: right;\">9</td><td style = \"text-align: right;\">70</td><td style = \"text-align: right;\">3.78</td><td style = \"text-align: right;\">5.54</td><td style = \"text-align: right;\">5.21</td><td style = \"text-align: right;\">5.56</td><td style = \"text-align: right;\">4.74</td><td style = \"text-align: right;\">4.02</td><td style = \"text-align: right;\">4.73</td></tr><tr><td class = \"rowNumber\" style = \"font-weight: bold; text-align: right;\">10</td><td style = \"text-align: right;\">80</td><td style = \"text-align: right;\">3.81</td><td style = \"text-align: right;\">5.37</td><td style = \"text-align: right;\">5.04</td><td style = \"text-align: right;\">5.48</td><td style = \"text-align: right;\">4.6</td><td style = \"text-align: right;\">3.9</td><td style = \"text-align: right;\">4.46</td></tr><tr><td class = \"rowNumber\" style = \"font-weight: bold; text-align: right;\">11</td><td style = \"text-align: right;\">90</td><td style = \"text-align: right;\">3.71</td><td style = \"text-align: right;\">5.2</td><td style = \"text-align: right;\">4.87</td><td style = \"text-align: right;\">5.3</td><td style = \"text-align: right;\">4.21</td><td style = \"text-align: right;\">3.47</td><td style = \"text-align: right;\">4.29</td></tr><tr><td class = \"rowNumber\" style = \"font-weight: bold; text-align: right;\">12</td><td style = \"text-align: right;\">100</td><td style = \"text-align: right;\">3.71</td><td style = \"text-align: right;\">5.07</td><td style = \"text-align: right;\">4.7</td><td style = \"text-align: right;\">5.17</td><td style = \"text-align: right;\">3.88</td><td style = \"text-align: right;\">3.1</td><td style = \"text-align: right;\">3.92</td></tr><tr><td class = \"rowNumber\" style = \"font-weight: bold; text-align: right;\">13</td><td style = \"text-align: right;\">130</td><td style = \"text-align: right;\">3.41</td><td style = \"text-align: right;\">4.58</td><td style = \"text-align: right;\">4.25</td><td style = \"text-align: right;\">4.87</td><td style = \"text-align: right;\">3.2</td><td style = \"text-align: right;\">2.42</td><td style = \"text-align: right;\">3.28</td></tr><tr><td class = \"rowNumber\" style = \"font-weight: bold; text-align: right;\">14</td><td style = \"text-align: right;\">150</td><td style = \"text-align: right;\">3.32</td><td style = \"text-align: right;\">4.27</td><td style = \"text-align: right;\">4.0</td><td style = \"text-align: right;\">4.71</td><td style = \"text-align: right;\">2.82</td><td style = \"text-align: right;\">2.05</td><td style = \"text-align: right;\">2.82</td></tr></tbody></table></div>"
      ],
      "text/latex": [
       "\\begin{tabular}{r|ccccccc}\n",
       "\t& amperages & unfiltered & c1\\_filtered & c2\\_filtered & c1\\_c2\\_filtered & r1\\_c1\\_filtered & \\\\\n",
       "\t\\hline\n",
       "\t& Int64 & Float64 & Float64 & Float64 & Float64 & Float64 & \\\\\n",
       "\t\\hline\n",
       "\t1 & 5 & 4.43 & 7.0 & 7.0 & 7.0 & 7.0 & $\\dots$ \\\\\n",
       "\t2 & 10 & 4.41 & 6.9 & 6.78 & 6.72 & 6.6 & $\\dots$ \\\\\n",
       "\t3 & 15 & 4.41 & 6.7 & 6.6 & 6.78 & 6.35 & $\\dots$ \\\\\n",
       "\t4 & 20 & 4.38 & 6.53 & 6.43 & 6.42 & 6.04 & $\\dots$ \\\\\n",
       "\t5 & 30 & 4.31 & 6.32 & 6.2 & 6.15 & 5.75 & $\\dots$ \\\\\n",
       "\t6 & 40 & 4.26 & 6.1 & 5.96 & 6.01 & 5.42 & $\\dots$ \\\\\n",
       "\t7 & 50 & 4.21 & 5.94 & 5.72 & 5.84 & 5.17 & $\\dots$ \\\\\n",
       "\t8 & 60 & 4.14 & 5.69 & 5.47 & 5.69 & 4.8 & $\\dots$ \\\\\n",
       "\t9 & 70 & 3.78 & 5.54 & 5.21 & 5.56 & 4.74 & $\\dots$ \\\\\n",
       "\t10 & 80 & 3.81 & 5.37 & 5.04 & 5.48 & 4.6 & $\\dots$ \\\\\n",
       "\t11 & 90 & 3.71 & 5.2 & 4.87 & 5.3 & 4.21 & $\\dots$ \\\\\n",
       "\t12 & 100 & 3.71 & 5.07 & 4.7 & 5.17 & 3.88 & $\\dots$ \\\\\n",
       "\t13 & 130 & 3.41 & 4.58 & 4.25 & 4.87 & 3.2 & $\\dots$ \\\\\n",
       "\t14 & 150 & 3.32 & 4.27 & 4.0 & 4.71 & 2.82 & $\\dots$ \\\\\n",
       "\\end{tabular}\n"
      ],
      "text/plain": [
       "\u001b[1m14×8 DataFrame\u001b[0m\n",
       "\u001b[1m Row \u001b[0m│\u001b[1m amperages \u001b[0m\u001b[1m unfiltered \u001b[0m\u001b[1m c1_filtered \u001b[0m\u001b[1m c2_filtered \u001b[0m\u001b[1m c1_c2_filtered \u001b[0m\u001b[1m r1_c1_\u001b[0m ⋯\n",
       "     │\u001b[90m Int64     \u001b[0m\u001b[90m Float64    \u001b[0m\u001b[90m Float64     \u001b[0m\u001b[90m Float64     \u001b[0m\u001b[90m Float64        \u001b[0m\u001b[90m Float6\u001b[0m ⋯\n",
       "─────┼──────────────────────────────────────────────────────────────────────────\n",
       "   1 │         5        4.43         7.0          7.0             7.0          ⋯\n",
       "   2 │        10        4.41         6.9          6.78            6.72\n",
       "   3 │        15        4.41         6.7          6.6             6.78\n",
       "   4 │        20        4.38         6.53         6.43            6.42\n",
       "   5 │        30        4.31         6.32         6.2             6.15         ⋯\n",
       "   6 │        40        4.26         6.1          5.96            6.01\n",
       "   7 │        50        4.21         5.94         5.72            5.84\n",
       "   8 │        60        4.14         5.69         5.47            5.69\n",
       "   9 │        70        3.78         5.54         5.21            5.56         ⋯\n",
       "  10 │        80        3.81         5.37         5.04            5.48\n",
       "  11 │        90        3.71         5.2          4.87            5.3\n",
       "  12 │       100        3.71         5.07         4.7             5.17\n",
       "  13 │       130        3.41         4.58         4.25            4.87         ⋯\n",
       "  14 │       150        3.32         4.27         4.0             4.71\n",
       "\u001b[36m                                                               3 columns omitted\u001b[0m"
      ]
     },
     "execution_count": 47,
     "metadata": {},
     "output_type": "execute_result"
    }
   ],
   "source": [
    "table4_3 = DataFrame(\n",
    "    amperages=[5, 10, 15, 20, 30, 40, 50, 60, 70, 80, 90, 100, 130, 150], # mA\n",
    "    unfiltered=[4.43, 4.41, 4.41, 4.38, 4.31, 4.26, 4.21, 4.14, 3.78, 3.81, 3.71, 3.71, 3.41, 3.32],\n",
    "    c1_filtered=[7, 6.9, 6.7, 6.53, 6.32, 6.1, 5.94, 5.69, 5.54, 5.37, 5.2, 5.07, 4.58, 4.27],\n",
    "    c2_filtered=[7, 6.78, 6.6, 6.43, 6.2, 5.96, 5.72, 5.47, 5.21, 5.04, 4.87, 4.7, 4.25, 4],\n",
    "    c1_c2_filtered=[7, 6.72, 6.78, 6.42, 6.15, 6.01, 5.84, 5.69, 5.56, 5.48, 5.3, 5.17, 4.87, 4.71],\n",
    "    r1_c1_filtered=[7, 6.6, 6.35, 6.04, 5.75, 5.42, 5.17, 4.8, 4.74, 4.6, 4.21, 3.88, 3.2, 2.82],\n",
    "    r1_c2_filtered=[7, 6.65, 6.3, 6, 5.49, 5.14, 5, 4.43, 4.02, 3.9, 3.47, 3.1, 2.42, 2.05],\n",
    "    c1_r1_c2_filtered=[7, 6.6, 6.38, 6.22, 5.88, 5.55, 5.28, 5.02, 4.73, 4.46, 4.29, 3.92, 3.28, 2.82],\n",
    ")"
   ]
  },
  {
   "cell_type": "markdown",
   "metadata": {},
   "source": [
    "Table 4.5: Voltage stabiliser"
   ]
  },
  {
   "cell_type": "code",
   "execution_count": 15,
   "metadata": {},
   "outputs": [
    {
     "data": {
      "text/html": [
       "<div><div style = \"float: left;\"><span>6×2 DataFrame</span></div><div style = \"clear: both;\"></div></div><div class = \"data-frame\" style = \"overflow-x: scroll;\"><table class = \"data-frame\" style = \"margin-bottom: 6px;\"><thead><tr class = \"header\"><th class = \"rowNumber\" style = \"font-weight: bold; text-align: right;\">Row</th><th style = \"text-align: left;\">amperage</th><th style = \"text-align: left;\">voltage</th></tr><tr class = \"subheader headerLastRow\"><th class = \"rowNumber\" style = \"font-weight: bold; text-align: right;\"></th><th title = \"Int64\" style = \"text-align: left;\">Int64</th><th title = \"Int64\" style = \"text-align: left;\">Int64</th></tr></thead><tbody><tr><td class = \"rowNumber\" style = \"font-weight: bold; text-align: right;\">1</td><td style = \"text-align: right;\">0</td><td style = \"text-align: right;\">0</td></tr><tr><td class = \"rowNumber\" style = \"font-weight: bold; text-align: right;\">2</td><td style = \"text-align: right;\">10</td><td style = \"text-align: right;\">0</td></tr><tr><td class = \"rowNumber\" style = \"font-weight: bold; text-align: right;\">3</td><td style = \"text-align: right;\">20</td><td style = \"text-align: right;\">0</td></tr><tr><td class = \"rowNumber\" style = \"font-weight: bold; text-align: right;\">4</td><td style = \"text-align: right;\">30</td><td style = \"text-align: right;\">0</td></tr><tr><td class = \"rowNumber\" style = \"font-weight: bold; text-align: right;\">5</td><td style = \"text-align: right;\">40</td><td style = \"text-align: right;\">0</td></tr><tr><td class = \"rowNumber\" style = \"font-weight: bold; text-align: right;\">6</td><td style = \"text-align: right;\">50</td><td style = \"text-align: right;\">0</td></tr></tbody></table></div>"
      ],
      "text/latex": [
       "\\begin{tabular}{r|cc}\n",
       "\t& amperage & voltage\\\\\n",
       "\t\\hline\n",
       "\t& Int64 & Int64\\\\\n",
       "\t\\hline\n",
       "\t1 & 0 & 0 \\\\\n",
       "\t2 & 10 & 0 \\\\\n",
       "\t3 & 20 & 0 \\\\\n",
       "\t4 & 30 & 0 \\\\\n",
       "\t5 & 40 & 0 \\\\\n",
       "\t6 & 50 & 0 \\\\\n",
       "\\end{tabular}\n"
      ],
      "text/plain": [
       "\u001b[1m6×2 DataFrame\u001b[0m\n",
       "\u001b[1m Row \u001b[0m│\u001b[1m amperage \u001b[0m\u001b[1m voltage \u001b[0m\n",
       "     │\u001b[90m Int64    \u001b[0m\u001b[90m Int64   \u001b[0m\n",
       "─────┼───────────────────\n",
       "   1 │        0        0\n",
       "   2 │       10        0\n",
       "   3 │       20        0\n",
       "   4 │       30        0\n",
       "   5 │       40        0\n",
       "   6 │       50        0"
      ]
     },
     "execution_count": 15,
     "metadata": {},
     "output_type": "execute_result"
    }
   ],
   "source": [
    "table4_5 = DataFrame(\n",
    "    amperage=[0, 10, 20, 30, 40, 50],\n",
    "    voltage=[0, 0, 0, 0, 0, 0]\n",
    ")"
   ]
  },
  {
   "cell_type": "markdown",
   "metadata": {},
   "source": [
    "Table 4.6: Output voltage compared to input voltage"
   ]
  },
  {
   "cell_type": "code",
   "execution_count": 16,
   "metadata": {},
   "outputs": [
    {
     "data": {
      "text/html": [
       "<div><div style = \"float: left;\"><span>10×2 DataFrame</span></div><div style = \"clear: both;\"></div></div><div class = \"data-frame\" style = \"overflow-x: scroll;\"><table class = \"data-frame\" style = \"margin-bottom: 6px;\"><thead><tr class = \"header\"><th class = \"rowNumber\" style = \"font-weight: bold; text-align: right;\">Row</th><th style = \"text-align: left;\">voltage_input</th><th style = \"text-align: left;\">voltage_output</th></tr><tr class = \"subheader headerLastRow\"><th class = \"rowNumber\" style = \"font-weight: bold; text-align: right;\"></th><th title = \"Int64\" style = \"text-align: left;\">Int64</th><th title = \"Int64\" style = \"text-align: left;\">Int64</th></tr></thead><tbody><tr><td class = \"rowNumber\" style = \"font-weight: bold; text-align: right;\">1</td><td style = \"text-align: right;\">0</td><td style = \"text-align: right;\">0</td></tr><tr><td class = \"rowNumber\" style = \"font-weight: bold; text-align: right;\">2</td><td style = \"text-align: right;\">0</td><td style = \"text-align: right;\">0</td></tr><tr><td class = \"rowNumber\" style = \"font-weight: bold; text-align: right;\">3</td><td style = \"text-align: right;\">0</td><td style = \"text-align: right;\">0</td></tr><tr><td class = \"rowNumber\" style = \"font-weight: bold; text-align: right;\">4</td><td style = \"text-align: right;\">0</td><td style = \"text-align: right;\">0</td></tr><tr><td class = \"rowNumber\" style = \"font-weight: bold; text-align: right;\">5</td><td style = \"text-align: right;\">0</td><td style = \"text-align: right;\">0</td></tr><tr><td class = \"rowNumber\" style = \"font-weight: bold; text-align: right;\">6</td><td style = \"text-align: right;\">0</td><td style = \"text-align: right;\">0</td></tr><tr><td class = \"rowNumber\" style = \"font-weight: bold; text-align: right;\">7</td><td style = \"text-align: right;\">0</td><td style = \"text-align: right;\">0</td></tr><tr><td class = \"rowNumber\" style = \"font-weight: bold; text-align: right;\">8</td><td style = \"text-align: right;\">0</td><td style = \"text-align: right;\">0</td></tr><tr><td class = \"rowNumber\" style = \"font-weight: bold; text-align: right;\">9</td><td style = \"text-align: right;\">0</td><td style = \"text-align: right;\">0</td></tr><tr><td class = \"rowNumber\" style = \"font-weight: bold; text-align: right;\">10</td><td style = \"text-align: right;\">0</td><td style = \"text-align: right;\">0</td></tr></tbody></table></div>"
      ],
      "text/latex": [
       "\\begin{tabular}{r|cc}\n",
       "\t& voltage\\_input & voltage\\_output\\\\\n",
       "\t\\hline\n",
       "\t& Int64 & Int64\\\\\n",
       "\t\\hline\n",
       "\t1 & 0 & 0 \\\\\n",
       "\t2 & 0 & 0 \\\\\n",
       "\t3 & 0 & 0 \\\\\n",
       "\t4 & 0 & 0 \\\\\n",
       "\t5 & 0 & 0 \\\\\n",
       "\t6 & 0 & 0 \\\\\n",
       "\t7 & 0 & 0 \\\\\n",
       "\t8 & 0 & 0 \\\\\n",
       "\t9 & 0 & 0 \\\\\n",
       "\t10 & 0 & 0 \\\\\n",
       "\\end{tabular}\n"
      ],
      "text/plain": [
       "\u001b[1m10×2 DataFrame\u001b[0m\n",
       "\u001b[1m Row \u001b[0m│\u001b[1m voltage_input \u001b[0m\u001b[1m voltage_output \u001b[0m\n",
       "     │\u001b[90m Int64         \u001b[0m\u001b[90m Int64          \u001b[0m\n",
       "─────┼───────────────────────────────\n",
       "   1 │             0               0\n",
       "   2 │             0               0\n",
       "   3 │             0               0\n",
       "   4 │             0               0\n",
       "   5 │             0               0\n",
       "   6 │             0               0\n",
       "   7 │             0               0\n",
       "   8 │             0               0\n",
       "   9 │             0               0\n",
       "  10 │             0               0"
      ]
     },
     "execution_count": 16,
     "metadata": {},
     "output_type": "execute_result"
    }
   ],
   "source": [
    "table4_6 = DataFrame(\n",
    "    voltage_input=[0, 0, 0, 0, 0, 0, 0, 0, 0, 0],\n",
    "    voltage_output=[0, 0, 0, 0, 0, 0, 0, 0, 0, 0],\n",
    ")"
   ]
  }
 ],
 "metadata": {
  "kernelspec": {
   "display_name": "Julia 1.10.0",
   "language": "julia",
   "name": "julia-1.10"
  },
  "language_info": {
   "file_extension": ".jl",
   "mimetype": "application/julia",
   "name": "julia",
   "version": "1.10.0"
  }
 },
 "nbformat": 4,
 "nbformat_minor": 2
}
