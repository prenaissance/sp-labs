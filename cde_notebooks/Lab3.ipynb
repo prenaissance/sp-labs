{
 "cells": [
  {
   "cell_type": "code",
   "execution_count": 4,
   "metadata": {},
   "outputs": [
    {
     "data": {
      "text/plain": [
       "\"/home/prenaissance/Repos/sp-labs/cde_notebooks/all.png\""
      ]
     },
     "execution_count": 4,
     "metadata": {},
     "output_type": "execute_result"
    }
   ],
   "source": [
    "using Plots\n",
    "\n",
    "voltage_d1 = [0, 0.05, 0.1, 0.15, 0.2, 0.25, 0.3, 0.35, 0.4, 0.45]\n",
    "amperage_d1 = [0, 0.0, 0.2, 0.9, 2.7, 6.4, 13.6, 22, 35.5, 43]\n",
    "\n",
    "voltage_d2 = [0, 0.1, 0.3, 0.5, 0.6, 0.65, 0.7, 0.75, 0.8, 0.85]\n",
    "amperage_d2 = [0, 0, 0, 0, 0.5, 1.6, 4.9, 12.1, 30.5, 47.5]\n",
    "amperage_d3 = [0, 0, 0, 0, 0, 0.0, 0.4, 2.3, 12.8, 39.6]\n",
    "\n",
    "voltage_d4 = [0, 0.5, 1, 1.1, 1.2, 1.3, 1.4, 1.5, 1.6, 1.7, 1.8, 1.9, 2]\n",
    "amperage_d4 = [0, 0, 0, 0.2, 0.3, 0.3, 0.4, 0.5, 0.8, 0.6, 0.7, 0.8, 0.9]\n",
    "\n",
    "p1 = plot(voltage_d1, amperage_d1, label=\"D1\", xlabel=\"Voltage (V)\", ylabel=\"Amperage (A)\", title=\"I-V Curve\")\n",
    "p2 = plot(voltage_d2, amperage_d2, label=\"D2\", xlabel=\"Voltage (V)\", ylabel=\"Amperage (A)\", title=\"I-V Curve\")\n",
    "p2_p3 = plot(p2, voltage_d2, amperage_d3, label=\"D3\", xlabel=\"Voltage (V)\", ylabel=\"Amperage (A)\", title=\"I-V Curve\")\n",
    "p4 = plot(voltage_d4, amperage_d4, label=\"D4\", xlabel=\"Voltage (V)\", ylabel=\"Amperage (A)\", title=\"I-V Curve\")\n",
    "p_all = plot(p2_p3, voltage_d1, amperage_d1, label=\"D1\", xlabel=\"Voltage (V)\", ylabel=\"Amperage (A)\", title=\"I-V Curve\")\n",
    "p_all = plot(p_all, voltage_d4, amperage_d4, label=\"D4\", xlabel=\"Voltage (V)\", ylabel=\"Amperage (A)\", title=\"I-V Curve\")\n",
    "\n",
    "savefig(p1, \"d1.png\")\n",
    "savefig(p2_p3, \"d2_d3.png\")\n",
    "savefig(p4, \"d4.png\")\n",
    "savefig(p_all, \"all.png\")"
   ]
  },
  {
   "cell_type": "markdown",
   "metadata": {},
   "source": [
    "Reverse Polarity"
   ]
  },
  {
   "cell_type": "code",
   "execution_count": 31,
   "metadata": {},
   "outputs": [
    {
     "data": {
      "text/plain": [
       "\"/home/prenaissance/Repos/sp-labs/cde_notebooks/reverse_d3.png\""
      ]
     },
     "execution_count": 31,
     "metadata": {},
     "output_type": "execute_result"
    }
   ],
   "source": [
    "voltage_reverse_d1 = [0, 1, 3, 5, 10, 15]\n",
    "amperage_reverse_d1 = amperage_reverse_d2 = zeros(6)\n",
    "\n",
    "p1 = plot(voltage_reverse_d1, amperage_reverse_d1, lw=5, label=\"D1\", xlabel=\"Voltage (V)\", ylabel=\"Amperage (A)\", title=\"Reverse Polarity I-V Curve\")\n",
    "p1 = plot(p1, voltage_reverse_d1, amperage_reverse_d2, lw=3, line=:dash, label=\"D2\", xlabel=\"Voltage (V)\", ylabel=\"Amperage (A)\", title=\"Reverse Polarity I-V Curve\")\n",
    "savefig(p1, \"reverse_d1_d2.png\")\n",
    "\n",
    "voltage_reverse_d3 = [0, 5, 7, 7.43, 7.43, 7.44, 7.46, 7.48, 7.50, 7.53, 7.55, 7.56]\n",
    "amperage_reverse_d3 = [0, 0, 0, 1, 2, 5, 10, 15, 20, 25, 30, 35]\n",
    "\n",
    "p2 = plot(voltage_reverse_d3, amperage_reverse_d3, lw=5, label=\"D3\", xlabel=\"Voltage (V)\", ylabel=\"Amperage (A)\", title=\"Reverse Polarity I-V Curve\")\n",
    "p2 = scatter(p2, voltage_reverse_d3, amperage_reverse_d3, label=\"D3\")\n",
    "savefig(p2, \"reverse_d3.png\")"
   ]
  }
 ],
 "metadata": {
  "kernelspec": {
   "display_name": "Julia 1.10.0",
   "language": "julia",
   "name": "julia-1.10"
  },
  "language_info": {
   "file_extension": ".jl",
   "mimetype": "application/julia",
   "name": "julia",
   "version": "1.10.0"
  }
 },
 "nbformat": 4,
 "nbformat_minor": 2
}
